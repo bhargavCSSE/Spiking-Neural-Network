{
 "metadata": {
  "language_info": {
   "codemirror_mode": {
    "name": "ipython",
    "version": 3
   },
   "file_extension": ".py",
   "mimetype": "text/x-python",
   "name": "python",
   "nbconvert_exporter": "python",
   "pygments_lexer": "ipython3",
   "version": "3.7.7-final"
  },
  "orig_nbformat": 2,
  "kernelspec": {
   "name": "python37764bitpy37conda34757eb3777e4ef18aaea4b8199c344c",
   "display_name": "Python 3.7.7 64-bit ('py37': conda)"
  }
 },
 "nbformat": 4,
 "nbformat_minor": 2,
 "cells": [
  {
   "cell_type": "code",
   "execution_count": 20,
   "metadata": {},
   "outputs": [],
   "source": [
    "import pandas as pd\n",
    "import numpy as np\n",
    "from bokeh.io import output_notebook, show\n",
    "from bokeh.plotting import figure\n",
    "from bokeh.models import Band, ColumnDataSource, Range1d\n",
    "# output_notebook()"
   ]
  },
  {
   "cell_type": "code",
   "execution_count": 21,
   "metadata": {},
   "outputs": [
    {
     "output_type": "execute_result",
     "data": {
      "text/plain": [
       "     Unnamed: 0     0     1     2     3    4     5     6     7     8    9  \\\n",
       "0             0 -1183  -550 -1247 -1510 -712 -1056 -1778 -2043 -1708 -903   \n",
       "1             1  -577 -1290 -1830  -486 -670  -522  -127  -333  -965 -469   \n",
       "2             2  -551  -681  -362  -190 -796  -524  -188  -250  -238 -292   \n",
       "3             3  -318  -407  -284  -159 -444  -310  -177  -375  -491 -337   \n",
       "4             4  -191  -268  -367  -254 -253  -165  -157  -262  -201 -256   \n",
       "..          ...   ...   ...   ...   ...  ...   ...   ...   ...   ...  ...   \n",
       "195         195  -142  -165  -153  -178 -205  -164  -189  -163  -164 -210   \n",
       "196         196  -206  -165  -151  -163 -211  -149  -120  -164  -167 -205   \n",
       "197         197  -142  -155  -153  -164 -226  -160  -190  -147  -157 -213   \n",
       "198         198  -202  -161  -150  -182 -197  -159  -181  -164  -154 -284   \n",
       "199         199  -150  -173  -291  -206 -285  -152  -129  -159  -161 -233   \n",
       "\n",
       "       mean         std  \n",
       "0   -1269.0  485.726718  \n",
       "1    -726.9  505.291654  \n",
       "2    -407.2  217.135800  \n",
       "3    -330.2  106.577880  \n",
       "4    -237.4   61.811901  \n",
       "..      ...         ...  \n",
       "195  -173.3   22.010351  \n",
       "196  -170.1   29.103074  \n",
       "197  -170.7   28.890791  \n",
       "198  -183.4   39.598541  \n",
       "199  -193.9   57.768600  \n",
       "\n",
       "[200 rows x 13 columns]"
      ],
      "text/html": "<div>\n<style scoped>\n    .dataframe tbody tr th:only-of-type {\n        vertical-align: middle;\n    }\n\n    .dataframe tbody tr th {\n        vertical-align: top;\n    }\n\n    .dataframe thead th {\n        text-align: right;\n    }\n</style>\n<table border=\"1\" class=\"dataframe\">\n  <thead>\n    <tr style=\"text-align: right;\">\n      <th></th>\n      <th>Unnamed: 0</th>\n      <th>0</th>\n      <th>1</th>\n      <th>2</th>\n      <th>3</th>\n      <th>4</th>\n      <th>5</th>\n      <th>6</th>\n      <th>7</th>\n      <th>8</th>\n      <th>9</th>\n      <th>mean</th>\n      <th>std</th>\n    </tr>\n  </thead>\n  <tbody>\n    <tr>\n      <th>0</th>\n      <td>0</td>\n      <td>-1183</td>\n      <td>-550</td>\n      <td>-1247</td>\n      <td>-1510</td>\n      <td>-712</td>\n      <td>-1056</td>\n      <td>-1778</td>\n      <td>-2043</td>\n      <td>-1708</td>\n      <td>-903</td>\n      <td>-1269.0</td>\n      <td>485.726718</td>\n    </tr>\n    <tr>\n      <th>1</th>\n      <td>1</td>\n      <td>-577</td>\n      <td>-1290</td>\n      <td>-1830</td>\n      <td>-486</td>\n      <td>-670</td>\n      <td>-522</td>\n      <td>-127</td>\n      <td>-333</td>\n      <td>-965</td>\n      <td>-469</td>\n      <td>-726.9</td>\n      <td>505.291654</td>\n    </tr>\n    <tr>\n      <th>2</th>\n      <td>2</td>\n      <td>-551</td>\n      <td>-681</td>\n      <td>-362</td>\n      <td>-190</td>\n      <td>-796</td>\n      <td>-524</td>\n      <td>-188</td>\n      <td>-250</td>\n      <td>-238</td>\n      <td>-292</td>\n      <td>-407.2</td>\n      <td>217.135800</td>\n    </tr>\n    <tr>\n      <th>3</th>\n      <td>3</td>\n      <td>-318</td>\n      <td>-407</td>\n      <td>-284</td>\n      <td>-159</td>\n      <td>-444</td>\n      <td>-310</td>\n      <td>-177</td>\n      <td>-375</td>\n      <td>-491</td>\n      <td>-337</td>\n      <td>-330.2</td>\n      <td>106.577880</td>\n    </tr>\n    <tr>\n      <th>4</th>\n      <td>4</td>\n      <td>-191</td>\n      <td>-268</td>\n      <td>-367</td>\n      <td>-254</td>\n      <td>-253</td>\n      <td>-165</td>\n      <td>-157</td>\n      <td>-262</td>\n      <td>-201</td>\n      <td>-256</td>\n      <td>-237.4</td>\n      <td>61.811901</td>\n    </tr>\n    <tr>\n      <th>...</th>\n      <td>...</td>\n      <td>...</td>\n      <td>...</td>\n      <td>...</td>\n      <td>...</td>\n      <td>...</td>\n      <td>...</td>\n      <td>...</td>\n      <td>...</td>\n      <td>...</td>\n      <td>...</td>\n      <td>...</td>\n      <td>...</td>\n    </tr>\n    <tr>\n      <th>195</th>\n      <td>195</td>\n      <td>-142</td>\n      <td>-165</td>\n      <td>-153</td>\n      <td>-178</td>\n      <td>-205</td>\n      <td>-164</td>\n      <td>-189</td>\n      <td>-163</td>\n      <td>-164</td>\n      <td>-210</td>\n      <td>-173.3</td>\n      <td>22.010351</td>\n    </tr>\n    <tr>\n      <th>196</th>\n      <td>196</td>\n      <td>-206</td>\n      <td>-165</td>\n      <td>-151</td>\n      <td>-163</td>\n      <td>-211</td>\n      <td>-149</td>\n      <td>-120</td>\n      <td>-164</td>\n      <td>-167</td>\n      <td>-205</td>\n      <td>-170.1</td>\n      <td>29.103074</td>\n    </tr>\n    <tr>\n      <th>197</th>\n      <td>197</td>\n      <td>-142</td>\n      <td>-155</td>\n      <td>-153</td>\n      <td>-164</td>\n      <td>-226</td>\n      <td>-160</td>\n      <td>-190</td>\n      <td>-147</td>\n      <td>-157</td>\n      <td>-213</td>\n      <td>-170.7</td>\n      <td>28.890791</td>\n    </tr>\n    <tr>\n      <th>198</th>\n      <td>198</td>\n      <td>-202</td>\n      <td>-161</td>\n      <td>-150</td>\n      <td>-182</td>\n      <td>-197</td>\n      <td>-159</td>\n      <td>-181</td>\n      <td>-164</td>\n      <td>-154</td>\n      <td>-284</td>\n      <td>-183.4</td>\n      <td>39.598541</td>\n    </tr>\n    <tr>\n      <th>199</th>\n      <td>199</td>\n      <td>-150</td>\n      <td>-173</td>\n      <td>-291</td>\n      <td>-206</td>\n      <td>-285</td>\n      <td>-152</td>\n      <td>-129</td>\n      <td>-159</td>\n      <td>-161</td>\n      <td>-233</td>\n      <td>-193.9</td>\n      <td>57.768600</td>\n    </tr>\n  </tbody>\n</table>\n<p>200 rows × 13 columns</p>\n</div>"
     },
     "metadata": {},
     "execution_count": 21
    }
   ],
   "source": [
    "d1 = pd.read_csv(\"Experiment-data/test-toolchain-mc.csv\")\n",
    "d2 = pd.read_csv(\"Experiment-data/test-umass-mc.csv\")\n",
    "d2"
   ]
  },
  {
   "cell_type": "code",
   "execution_count": 22,
   "metadata": {},
   "outputs": [],
   "source": [
    "maxValobj = d1.max()\n",
    "max_mean_1 = maxValobj[\"mean\"]\n",
    "maxValobj = d2.max()\n",
    "max_mean_2 = maxValobj[\"mean\"]"
   ]
  },
  {
   "cell_type": "code",
   "execution_count": 24,
   "metadata": {},
   "outputs": [
    {
     "output_type": "stream",
     "name": "stderr",
     "text": [
      "BokehUserWarning: ColumnDataSource's columns must be of the same length. Current lengths: ('lower', 160), ('mean', 160), ('std', 160), ('upper', 160), ('x', 15)\nBokehUserWarning: ColumnDataSource's columns must be of the same length. Current lengths: ('lower', 200), ('mean', 200), ('std', 200), ('upper', 200), ('x', 15)\nBokehUserWarning: ColumnDataSource's columns must be of the same length. Current lengths: ('x', 15), ('y', 160)\nBokehUserWarning: ColumnDataSource's columns must be of the same length. Current lengths: ('x', 15), ('y', 200)\n"
     ]
    }
   ],
   "source": [
    "Rm_1 = np.array(d1[\"mean\"])\n",
    "episodes_1 = np.array(range(15))\n",
    "mean_rewards_1 = np.array(d1[\"mean\"])\n",
    "std_rewards_1 = np.array(d1[\"std\"])\n",
    "\n",
    "Rm_2 = np.array(d2[\"mean\"])\n",
    "episodes_2 = np.array(range(15))\n",
    "mean_rewards_2 = np.array(d2[\"mean\"])\n",
    "std_rewards_2 = np.array(d2[\"std\"])\n",
    "\n",
    "source1 = ColumnDataSource(dict(\n",
    "    x = episodes_1,\n",
    "    mean = mean_rewards_1,\n",
    "    std = std_rewards_1,\n",
    "    upper = mean_rewards_1 + std_rewards_1,\n",
    "    lower = mean_rewards_1 - std_rewards_1\n",
    "))\n",
    "\n",
    "source2 = ColumnDataSource(dict(\n",
    "    x = episodes_2,\n",
    "    mean = mean_rewards_2,\n",
    "    std = std_rewards_2,\n",
    "    upper = mean_rewards_2 + std_rewards_2,\n",
    "    lower = mean_rewards_2 - std_rewards_2\n",
    "))\n",
    "\n",
    "p1 = figure(\n",
    "    title = \"TD learning in SNN: MountainCar (UMASS)\",\n",
    "    x_axis_label = \"Episodes\",\n",
    "    y_axis_label = \"Mean Rewards\"\n",
    ")\n",
    "\n",
    "band1 = Band(base='x', lower='lower', upper='upper', source=source1, level='underlay',\n",
    "            fill_alpha=0.2, line_width=1, line_color='black', fill_color='navy')\n",
    "p1.line(x=episodes_1, y=mean_rewards_1, line_width=2, color='navy', legend_label='Rate neurons (gym + NEST)')\n",
    "\n",
    "band2 = Band(base='x', lower='lower', upper='upper', source=source2, level='underlay',\n",
    "            fill_alpha=0.2, line_width=1, line_color='black', fill_color='orange')\n",
    "p1.line(x=episodes_2, y=mean_rewards_2, line_width=2, color='orange', legend_label='Spiking actors (UMASS)')\n",
    "\n",
    "\n",
    "p1.add_layout(band1)\n",
    "p1.add_layout(band2)\n",
    "\n",
    "p1.y_range=Range1d(-2000, 0)\n",
    "p1.legend.location = 'bottom_right'\n",
    "\n",
    "show(p1, browser=\"chrome\")"
   ]
  },
  {
   "cell_type": "code",
   "execution_count": null,
   "metadata": {},
   "outputs": [],
   "source": []
  },
  {
   "cell_type": "code",
   "execution_count": null,
   "metadata": {},
   "outputs": [],
   "source": []
  }
 ]
}