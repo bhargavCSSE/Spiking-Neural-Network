{
 "cells": [
  {
   "cell_type": "code",
   "execution_count": 3,
   "metadata": {},
   "outputs": [
    {
     "output_type": "display_data",
     "data": {
      "text/html": "\n    <div class=\"bk-root\">\n        <a href=\"https://bokeh.org\" target=\"_blank\" class=\"bk-logo bk-logo-small bk-logo-notebook\"></a>\n        <span id=\"1001\">Loading BokehJS ...</span>\n    </div>"
     },
     "metadata": {}
    },
    {
     "output_type": "display_data",
     "data": {
      "application/javascript": "\n(function(root) {\n  function now() {\n    return new Date();\n  }\n\n  var force = true;\n\n  if (typeof root._bokeh_onload_callbacks === \"undefined\" || force === true) {\n    root._bokeh_onload_callbacks = [];\n    root._bokeh_is_loading = undefined;\n  }\n\n  var JS_MIME_TYPE = 'application/javascript';\n  var HTML_MIME_TYPE = 'text/html';\n  var EXEC_MIME_TYPE = 'application/vnd.bokehjs_exec.v0+json';\n  var CLASS_NAME = 'output_bokeh rendered_html';\n\n  /**\n   * Render data to the DOM node\n   */\n  function render(props, node) {\n    var script = document.createElement(\"script\");\n    node.appendChild(script);\n  }\n\n  /**\n   * Handle when an output is cleared or removed\n   */\n  function handleClearOutput(event, handle) {\n    var cell = handle.cell;\n\n    var id = cell.output_area._bokeh_element_id;\n    var server_id = cell.output_area._bokeh_server_id;\n    // Clean up Bokeh references\n    if (id != null && id in Bokeh.index) {\n      Bokeh.index[id].model.document.clear();\n      delete Bokeh.index[id];\n    }\n\n    if (server_id !== undefined) {\n      // Clean up Bokeh references\n      var cmd = \"from bokeh.io.state import curstate; print(curstate().uuid_to_server['\" + server_id + \"'].get_sessions()[0].document.roots[0]._id)\";\n      cell.notebook.kernel.execute(cmd, {\n        iopub: {\n          output: function(msg) {\n            var id = msg.content.text.trim();\n            if (id in Bokeh.index) {\n              Bokeh.index[id].model.document.clear();\n              delete Bokeh.index[id];\n            }\n          }\n        }\n      });\n      // Destroy server and session\n      var cmd = \"import bokeh.io.notebook as ion; ion.destroy_server('\" + server_id + \"')\";\n      cell.notebook.kernel.execute(cmd);\n    }\n  }\n\n  /**\n   * Handle when a new output is added\n   */\n  function handleAddOutput(event, handle) {\n    var output_area = handle.output_area;\n    var output = handle.output;\n\n    // limit handleAddOutput to display_data with EXEC_MIME_TYPE content only\n    if ((output.output_type != \"display_data\") || (!output.data.hasOwnProperty(EXEC_MIME_TYPE))) {\n      return\n    }\n\n    var toinsert = output_area.element.find(\".\" + CLASS_NAME.split(' ')[0]);\n\n    if (output.metadata[EXEC_MIME_TYPE][\"id\"] !== undefined) {\n      toinsert[toinsert.length - 1].firstChild.textContent = output.data[JS_MIME_TYPE];\n      // store reference to embed id on output_area\n      output_area._bokeh_element_id = output.metadata[EXEC_MIME_TYPE][\"id\"];\n    }\n    if (output.metadata[EXEC_MIME_TYPE][\"server_id\"] !== undefined) {\n      var bk_div = document.createElement(\"div\");\n      bk_div.innerHTML = output.data[HTML_MIME_TYPE];\n      var script_attrs = bk_div.children[0].attributes;\n      for (var i = 0; i < script_attrs.length; i++) {\n        toinsert[toinsert.length - 1].firstChild.setAttribute(script_attrs[i].name, script_attrs[i].value);\n        toinsert[toinsert.length - 1].firstChild.textContent = bk_div.children[0].textContent\n      }\n      // store reference to server id on output_area\n      output_area._bokeh_server_id = output.metadata[EXEC_MIME_TYPE][\"server_id\"];\n    }\n  }\n\n  function register_renderer(events, OutputArea) {\n\n    function append_mime(data, metadata, element) {\n      // create a DOM node to render to\n      var toinsert = this.create_output_subarea(\n        metadata,\n        CLASS_NAME,\n        EXEC_MIME_TYPE\n      );\n      this.keyboard_manager.register_events(toinsert);\n      // Render to node\n      var props = {data: data, metadata: metadata[EXEC_MIME_TYPE]};\n      render(props, toinsert[toinsert.length - 1]);\n      element.append(toinsert);\n      return toinsert\n    }\n\n    /* Handle when an output is cleared or removed */\n    events.on('clear_output.CodeCell', handleClearOutput);\n    events.on('delete.Cell', handleClearOutput);\n\n    /* Handle when a new output is added */\n    events.on('output_added.OutputArea', handleAddOutput);\n\n    /**\n     * Register the mime type and append_mime function with output_area\n     */\n    OutputArea.prototype.register_mime_type(EXEC_MIME_TYPE, append_mime, {\n      /* Is output safe? */\n      safe: true,\n      /* Index of renderer in `output_area.display_order` */\n      index: 0\n    });\n  }\n\n  // register the mime type if in Jupyter Notebook environment and previously unregistered\n  if (root.Jupyter !== undefined) {\n    var events = require('base/js/events');\n    var OutputArea = require('notebook/js/outputarea').OutputArea;\n\n    if (OutputArea.prototype.mime_types().indexOf(EXEC_MIME_TYPE) == -1) {\n      register_renderer(events, OutputArea);\n    }\n  }\n\n  \n  if (typeof (root._bokeh_timeout) === \"undefined\" || force === true) {\n    root._bokeh_timeout = Date.now() + 5000;\n    root._bokeh_failed_load = false;\n  }\n\n  var NB_LOAD_WARNING = {'data': {'text/html':\n     \"<div style='background-color: #fdd'>\\n\"+\n     \"<p>\\n\"+\n     \"BokehJS does not appear to have successfully loaded. If loading BokehJS from CDN, this \\n\"+\n     \"may be due to a slow or bad network connection. Possible fixes:\\n\"+\n     \"</p>\\n\"+\n     \"<ul>\\n\"+\n     \"<li>re-rerun `output_notebook()` to attempt to load from CDN again, or</li>\\n\"+\n     \"<li>use INLINE resources instead, as so:</li>\\n\"+\n     \"</ul>\\n\"+\n     \"<code>\\n\"+\n     \"from bokeh.resources import INLINE\\n\"+\n     \"output_notebook(resources=INLINE)\\n\"+\n     \"</code>\\n\"+\n     \"</div>\"}};\n\n  function display_loaded() {\n    var el = document.getElementById(\"1001\");\n    if (el != null) {\n      el.textContent = \"BokehJS is loading...\";\n    }\n    if (root.Bokeh !== undefined) {\n      if (el != null) {\n        el.textContent = \"BokehJS \" + root.Bokeh.version + \" successfully loaded.\";\n      }\n    } else if (Date.now() < root._bokeh_timeout) {\n      setTimeout(display_loaded, 100)\n    }\n  }\n\n\n  function run_callbacks() {\n    try {\n      root._bokeh_onload_callbacks.forEach(function(callback) {\n        if (callback != null)\n          callback();\n      });\n    } finally {\n      delete root._bokeh_onload_callbacks\n    }\n    console.debug(\"Bokeh: all callbacks have finished\");\n  }\n\n  function load_libs(css_urls, js_urls, callback) {\n    if (css_urls == null) css_urls = [];\n    if (js_urls == null) js_urls = [];\n\n    root._bokeh_onload_callbacks.push(callback);\n    if (root._bokeh_is_loading > 0) {\n      console.debug(\"Bokeh: BokehJS is being loaded, scheduling callback at\", now());\n      return null;\n    }\n    if (js_urls == null || js_urls.length === 0) {\n      run_callbacks();\n      return null;\n    }\n    console.debug(\"Bokeh: BokehJS not loaded, scheduling load and callback at\", now());\n    root._bokeh_is_loading = css_urls.length + js_urls.length;\n\n    function on_load() {\n      root._bokeh_is_loading--;\n      if (root._bokeh_is_loading === 0) {\n        console.debug(\"Bokeh: all BokehJS libraries/stylesheets loaded\");\n        run_callbacks()\n      }\n    }\n\n    function on_error() {\n      console.error(\"failed to load \" + url);\n    }\n\n    for (var i = 0; i < css_urls.length; i++) {\n      var url = css_urls[i];\n      const element = document.createElement(\"link\");\n      element.onload = on_load;\n      element.onerror = on_error;\n      element.rel = \"stylesheet\";\n      element.type = \"text/css\";\n      element.href = url;\n      console.debug(\"Bokeh: injecting link tag for BokehJS stylesheet: \", url);\n      document.body.appendChild(element);\n    }\n\n    const hashes = {\"https://cdn.bokeh.org/bokeh/release/bokeh-2.0.2.min.js\": \"ufR9RFnRs6lniiaFvtJziE0YeidtAgBRH6ux2oUItHw5WTvE1zuk9uzhUU/FJXDp\", \"https://cdn.bokeh.org/bokeh/release/bokeh-widgets-2.0.2.min.js\": \"8QM/PGWBT+IssZuRcDcjzwIh1mkOmJSoNMmyYDZbCfXJg3Ap1lEvdVgFuSAwhb/J\", \"https://cdn.bokeh.org/bokeh/release/bokeh-tables-2.0.2.min.js\": \"Jm8cH3Rg0P6UeZhVY5cLy1WzKajUT9KImCY+76hEqrcJt59/d8GPvFHjCkYgnSIn\", \"https://cdn.bokeh.org/bokeh/release/bokeh-gl-2.0.2.min.js\": \"Ozhzj+SI7ywm74aOI/UajcWz+C0NjsPunEVyVIrxzYkB+jA+2tUw8x5xJCbVtK5I\"};\n\n    for (var i = 0; i < js_urls.length; i++) {\n      var url = js_urls[i];\n      var element = document.createElement('script');\n      element.onload = on_load;\n      element.onerror = on_error;\n      element.async = false;\n      element.src = url;\n      if (url in hashes) {\n        element.crossOrigin = \"anonymous\";\n        element.integrity = \"sha384-\" + hashes[url];\n      }\n      console.debug(\"Bokeh: injecting script tag for BokehJS library: \", url);\n      document.head.appendChild(element);\n    }\n  };\n\n  function inject_raw_css(css) {\n    const element = document.createElement(\"style\");\n    element.appendChild(document.createTextNode(css));\n    document.body.appendChild(element);\n  }\n\n  \n  var js_urls = [\"https://cdn.bokeh.org/bokeh/release/bokeh-2.0.2.min.js\", \"https://cdn.bokeh.org/bokeh/release/bokeh-widgets-2.0.2.min.js\", \"https://cdn.bokeh.org/bokeh/release/bokeh-tables-2.0.2.min.js\", \"https://cdn.bokeh.org/bokeh/release/bokeh-gl-2.0.2.min.js\"];\n  var css_urls = [];\n  \n\n  var inline_js = [\n    function(Bokeh) {\n      Bokeh.set_log_level(\"info\");\n    },\n    function(Bokeh) {\n    \n    \n    }\n  ];\n\n  function run_inline_js() {\n    \n    if (root.Bokeh !== undefined || force === true) {\n      \n    for (var i = 0; i < inline_js.length; i++) {\n      inline_js[i].call(root, root.Bokeh);\n    }\n    if (force === true) {\n        display_loaded();\n      }} else if (Date.now() < root._bokeh_timeout) {\n      setTimeout(run_inline_js, 100);\n    } else if (!root._bokeh_failed_load) {\n      console.log(\"Bokeh: BokehJS failed to load within specified timeout.\");\n      root._bokeh_failed_load = true;\n    } else if (force !== true) {\n      var cell = $(document.getElementById(\"1001\")).parents('.cell').data().cell;\n      cell.output_area.append_execute_result(NB_LOAD_WARNING)\n    }\n\n  }\n\n  if (root._bokeh_is_loading === 0) {\n    console.debug(\"Bokeh: BokehJS loaded, going straight to plotting\");\n    run_inline_js();\n  } else {\n    load_libs(css_urls, js_urls, function() {\n      console.debug(\"Bokeh: BokehJS plotting callback run at\", now());\n      run_inline_js();\n    });\n  }\n}(window));",
      "application/vnd.bokehjs_load.v0+json": "\n(function(root) {\n  function now() {\n    return new Date();\n  }\n\n  var force = true;\n\n  if (typeof root._bokeh_onload_callbacks === \"undefined\" || force === true) {\n    root._bokeh_onload_callbacks = [];\n    root._bokeh_is_loading = undefined;\n  }\n\n  \n\n  \n  if (typeof (root._bokeh_timeout) === \"undefined\" || force === true) {\n    root._bokeh_timeout = Date.now() + 5000;\n    root._bokeh_failed_load = false;\n  }\n\n  var NB_LOAD_WARNING = {'data': {'text/html':\n     \"<div style='background-color: #fdd'>\\n\"+\n     \"<p>\\n\"+\n     \"BokehJS does not appear to have successfully loaded. If loading BokehJS from CDN, this \\n\"+\n     \"may be due to a slow or bad network connection. Possible fixes:\\n\"+\n     \"</p>\\n\"+\n     \"<ul>\\n\"+\n     \"<li>re-rerun `output_notebook()` to attempt to load from CDN again, or</li>\\n\"+\n     \"<li>use INLINE resources instead, as so:</li>\\n\"+\n     \"</ul>\\n\"+\n     \"<code>\\n\"+\n     \"from bokeh.resources import INLINE\\n\"+\n     \"output_notebook(resources=INLINE)\\n\"+\n     \"</code>\\n\"+\n     \"</div>\"}};\n\n  function display_loaded() {\n    var el = document.getElementById(\"1001\");\n    if (el != null) {\n      el.textContent = \"BokehJS is loading...\";\n    }\n    if (root.Bokeh !== undefined) {\n      if (el != null) {\n        el.textContent = \"BokehJS \" + root.Bokeh.version + \" successfully loaded.\";\n      }\n    } else if (Date.now() < root._bokeh_timeout) {\n      setTimeout(display_loaded, 100)\n    }\n  }\n\n\n  function run_callbacks() {\n    try {\n      root._bokeh_onload_callbacks.forEach(function(callback) {\n        if (callback != null)\n          callback();\n      });\n    } finally {\n      delete root._bokeh_onload_callbacks\n    }\n    console.debug(\"Bokeh: all callbacks have finished\");\n  }\n\n  function load_libs(css_urls, js_urls, callback) {\n    if (css_urls == null) css_urls = [];\n    if (js_urls == null) js_urls = [];\n\n    root._bokeh_onload_callbacks.push(callback);\n    if (root._bokeh_is_loading > 0) {\n      console.debug(\"Bokeh: BokehJS is being loaded, scheduling callback at\", now());\n      return null;\n    }\n    if (js_urls == null || js_urls.length === 0) {\n      run_callbacks();\n      return null;\n    }\n    console.debug(\"Bokeh: BokehJS not loaded, scheduling load and callback at\", now());\n    root._bokeh_is_loading = css_urls.length + js_urls.length;\n\n    function on_load() {\n      root._bokeh_is_loading--;\n      if (root._bokeh_is_loading === 0) {\n        console.debug(\"Bokeh: all BokehJS libraries/stylesheets loaded\");\n        run_callbacks()\n      }\n    }\n\n    function on_error() {\n      console.error(\"failed to load \" + url);\n    }\n\n    for (var i = 0; i < css_urls.length; i++) {\n      var url = css_urls[i];\n      const element = document.createElement(\"link\");\n      element.onload = on_load;\n      element.onerror = on_error;\n      element.rel = \"stylesheet\";\n      element.type = \"text/css\";\n      element.href = url;\n      console.debug(\"Bokeh: injecting link tag for BokehJS stylesheet: \", url);\n      document.body.appendChild(element);\n    }\n\n    const hashes = {\"https://cdn.bokeh.org/bokeh/release/bokeh-2.0.2.min.js\": \"ufR9RFnRs6lniiaFvtJziE0YeidtAgBRH6ux2oUItHw5WTvE1zuk9uzhUU/FJXDp\", \"https://cdn.bokeh.org/bokeh/release/bokeh-widgets-2.0.2.min.js\": \"8QM/PGWBT+IssZuRcDcjzwIh1mkOmJSoNMmyYDZbCfXJg3Ap1lEvdVgFuSAwhb/J\", \"https://cdn.bokeh.org/bokeh/release/bokeh-tables-2.0.2.min.js\": \"Jm8cH3Rg0P6UeZhVY5cLy1WzKajUT9KImCY+76hEqrcJt59/d8GPvFHjCkYgnSIn\", \"https://cdn.bokeh.org/bokeh/release/bokeh-gl-2.0.2.min.js\": \"Ozhzj+SI7ywm74aOI/UajcWz+C0NjsPunEVyVIrxzYkB+jA+2tUw8x5xJCbVtK5I\"};\n\n    for (var i = 0; i < js_urls.length; i++) {\n      var url = js_urls[i];\n      var element = document.createElement('script');\n      element.onload = on_load;\n      element.onerror = on_error;\n      element.async = false;\n      element.src = url;\n      if (url in hashes) {\n        element.crossOrigin = \"anonymous\";\n        element.integrity = \"sha384-\" + hashes[url];\n      }\n      console.debug(\"Bokeh: injecting script tag for BokehJS library: \", url);\n      document.head.appendChild(element);\n    }\n  };\n\n  function inject_raw_css(css) {\n    const element = document.createElement(\"style\");\n    element.appendChild(document.createTextNode(css));\n    document.body.appendChild(element);\n  }\n\n  \n  var js_urls = [\"https://cdn.bokeh.org/bokeh/release/bokeh-2.0.2.min.js\", \"https://cdn.bokeh.org/bokeh/release/bokeh-widgets-2.0.2.min.js\", \"https://cdn.bokeh.org/bokeh/release/bokeh-tables-2.0.2.min.js\", \"https://cdn.bokeh.org/bokeh/release/bokeh-gl-2.0.2.min.js\"];\n  var css_urls = [];\n  \n\n  var inline_js = [\n    function(Bokeh) {\n      Bokeh.set_log_level(\"info\");\n    },\n    function(Bokeh) {\n    \n    \n    }\n  ];\n\n  function run_inline_js() {\n    \n    if (root.Bokeh !== undefined || force === true) {\n      \n    for (var i = 0; i < inline_js.length; i++) {\n      inline_js[i].call(root, root.Bokeh);\n    }\n    if (force === true) {\n        display_loaded();\n      }} else if (Date.now() < root._bokeh_timeout) {\n      setTimeout(run_inline_js, 100);\n    } else if (!root._bokeh_failed_load) {\n      console.log(\"Bokeh: BokehJS failed to load within specified timeout.\");\n      root._bokeh_failed_load = true;\n    } else if (force !== true) {\n      var cell = $(document.getElementById(\"1001\")).parents('.cell').data().cell;\n      cell.output_area.append_execute_result(NB_LOAD_WARNING)\n    }\n\n  }\n\n  if (root._bokeh_is_loading === 0) {\n    console.debug(\"Bokeh: BokehJS loaded, going straight to plotting\");\n    run_inline_js();\n  } else {\n    load_libs(css_urls, js_urls, function() {\n      console.debug(\"Bokeh: BokehJS plotting callback run at\", now());\n      run_inline_js();\n    });\n  }\n}(window));"
     },
     "metadata": {}
    }
   ],
   "source": [
    "import numpy as np\n",
    "from time import sleep\n",
    "from neurons import poisson, LIF\n",
    "\n",
    "from sklearn.datasets import load_breast_cancer\n",
    "from sklearn.preprocessing import normalize\n",
    "\n",
    "from bokeh.io import output_notebook\n",
    "from bokeh.plotting import figure, show\n",
    "from bokeh.palettes import mpl\n",
    "\n",
    "output_notebook()"
   ]
  },
  {
   "cell_type": "code",
   "execution_count": 10,
   "metadata": {},
   "outputs": [],
   "source": [
    "class spiking_neural_network:\n",
    "    def __init__(self):\n",
    "        self.x = []\n",
    "        self.y = []\n",
    "        self.layer0 = []\n",
    "        self.layer1 = []\n",
    "        self.layer2 = []\n",
    "        self.layer0_eval = []\n",
    "        self.w01 = []\n",
    "        self.w12 = []\n",
    "    \n",
    "    def generate_network(self):\n",
    "        for i in range(30):\n",
    "            self.layer0.append(poisson())\n",
    "        for i in range(100):\n",
    "            self.layer1.append(LIF())\n",
    "        for i in range(2):\n",
    "            self.layer2.append(LIF())\n",
    "            self.layer2[i].update_threshold(100)\n",
    "\n",
    "        self.w01 = np.random.rand(30, 100)\n",
    "        self.w12 = np.random.rand(100, 2)\n",
    "\n",
    "    def reset_network(self):\n",
    "        for neuron in self.layer1:\n",
    "            neuron.reset_neuron()\n",
    "\n",
    "        for neuron in self.layer2:\n",
    "            neuron.reset_neuron()\n",
    "\n",
    "        self.layer0_eval = []\n",
    "\n",
    "\n",
    "    def predict(self, x, time):\n",
    "        self.reset_network()\n",
    "        for i in range(len(self.layer0)):\n",
    "            self.layer0_eval.append(self.layer0[i].execute(x[i], time))\n",
    "\n",
    "        syn01 = []\n",
    "        for i in range(len(self.layer1)):\n",
    "            summ = 0\n",
    "            for j in range(len(self.layer0)):\n",
    "                summ += self.layer0_eval[j]*self.w01[j, i]\n",
    "            syn01.append(summ)\n",
    "        syn01 = np.array(syn01)\n",
    "\n",
    "        for i, t in enumerate(time):\n",
    "            for j in range(len(self.layer1)):\n",
    "                self.layer1[j].execute(syn01[j, i], t)\n",
    "\n",
    "            for j in range(len(self.layer2)):\n",
    "                syn = 0\n",
    "                for k in range(len(self.layer1)):\n",
    "                    syn += self.w12[k, j]*self.layer1[k].out\n",
    "                self.layer2[j].execute(syn, t)\n",
    "        \n",
    "    def train(self, x, y, time, epochs):\n",
    "        for epoch in range(epochs):\n",
    "            for row in range(np.shape(x)[0]):\n",
    "                \n",
    "                self.reset_network()\n",
    "                print('{:.2f} %'.format(100*(row+1)/np.shape(x)[0]))\n",
    "\n",
    "                for i in range(len(self.layer0)):\n",
    "                    self.layer0_eval.append(self.layer0[i].execute(x[row, i], time))\n",
    "\n",
    "                syn01 = []\n",
    "                for i in range(len(self.layer1)):\n",
    "                    sum = 0\n",
    "                    for j in range(len(self.layer0)):\n",
    "                        sum += self.layer0_eval[j]*self.w01[j, i]\n",
    "                    syn01.append(sum)\n",
    "                syn01 = np.array(syn01)\n",
    "\n",
    "                for i, t in enumerate(time):\n",
    "                    for j in range(len(self.layer1)):\n",
    "                        self.layer1[j].execute(syn01[j, i], t)\n",
    "\n",
    "                    for j in range(len(self.layer2)):\n",
    "                        syn = 0\n",
    "                        for k in range(len(self.layer1)):\n",
    "                            syn += self.w12[k, j]*self.layer1[k].out\n",
    "                        self.layer2[j].execute(syn, t)"
   ]
  },
  {
   "cell_type": "code",
   "execution_count": 11,
   "metadata": {},
   "outputs": [],
   "source": [
    "T = 100\n",
    "dt = 1\n",
    "time = np.arange(0, T+dt, dt)\n",
    "\n",
    "dataset = load_breast_cancer()\n",
    "x = dataset.data\n",
    "label = dataset.target\n",
    "\n",
    "x = normalize(x)\n",
    "new_x = x[0].reshape(30, 1)\n",
    "y = np.zeros((np.size(label, 0), len(np.unique(label))))\n",
    "for i in range(np.size(label, 0)):\n",
    "    y[i, label[i]] = 1"
   ]
  },
  {
   "cell_type": "code",
   "execution_count": 12,
   "metadata": {},
   "outputs": [
    {
     "output_type": "stream",
     "name": "stdout",
     "text": "0.18 %\n0.35 %\n0.53 %\n0.70 %\n0.88 %\n1.05 %\n1.23 %\n1.41 %\n1.58 %\n1.76 %\n1.93 %\n2.11 %\n2.28 %\n2.46 %\n2.64 %\n2.81 %\n2.99 %\n3.16 %\n3.34 %\n3.51 %\n3.69 %\n3.87 %\n4.04 %\n4.22 %\n4.39 %\n4.57 %\n4.75 %\n4.92 %\n5.10 %\n5.27 %\n5.45 %\n5.62 %\n5.80 %\n5.98 %\n6.15 %\n6.33 %\n6.50 %\n6.68 %\n6.85 %\n7.03 %\n7.21 %\n7.38 %\n7.56 %\n7.73 %\n7.91 %\n8.08 %\n8.26 %\n8.44 %\n8.61 %\n8.79 %\n8.96 %\n9.14 %\n9.31 %\n9.49 %\n9.67 %\n9.84 %\n10.02 %\n10.19 %\n10.37 %\n10.54 %\n10.72 %\n10.90 %\n11.07 %\n11.25 %\n11.42 %\n11.60 %\n11.78 %\n11.95 %\n12.13 %\n12.30 %\n12.48 %\n12.65 %\n12.83 %\n13.01 %\n13.18 %\n13.36 %\n13.53 %\n13.71 %\n13.88 %\n14.06 %\n14.24 %\n14.41 %\n14.59 %\n14.76 %\n14.94 %\n15.11 %\n15.29 %\n15.47 %\n15.64 %\n15.82 %\n15.99 %\n16.17 %\n16.34 %\n16.52 %\n16.70 %\n16.87 %\n17.05 %\n17.22 %\n17.40 %\n17.57 %\n17.75 %\n17.93 %\n18.10 %\n18.28 %\n18.45 %\n18.63 %\n18.80 %\n18.98 %\n19.16 %\n19.33 %\n19.51 %\n19.68 %\n19.86 %\n20.04 %\n20.21 %\n20.39 %\n20.56 %\n20.74 %\n20.91 %\n21.09 %\n21.27 %\n21.44 %\n21.62 %\n21.79 %\n21.97 %\n22.14 %\n22.32 %\n22.50 %\n22.67 %\n22.85 %\n23.02 %\n23.20 %\n23.37 %\n23.55 %\n23.73 %\n23.90 %\n24.08 %\n24.25 %\n24.43 %\n24.60 %\n24.78 %\n24.96 %\n25.13 %\n25.31 %\n25.48 %\n25.66 %\n25.83 %\n26.01 %\n26.19 %\n26.36 %\n26.54 %\n26.71 %\n26.89 %\n27.07 %\n27.24 %\n27.42 %\n27.59 %\n27.77 %\n27.94 %\n28.12 %\n28.30 %\n28.47 %\n28.65 %\n28.82 %\n29.00 %\n29.17 %\n29.35 %\n29.53 %\n29.70 %\n29.88 %\n30.05 %\n30.23 %\n30.40 %\n30.58 %\n30.76 %\n30.93 %\n31.11 %\n31.28 %\n31.46 %\n31.63 %\n31.81 %\n31.99 %\n32.16 %\n32.34 %\n32.51 %\n32.69 %\n32.86 %\n33.04 %\n33.22 %\n33.39 %\n33.57 %\n33.74 %\n33.92 %\n34.09 %\n34.27 %\n34.45 %\n34.62 %\n34.80 %\n34.97 %\n35.15 %\n35.33 %\n35.50 %\n35.68 %\n35.85 %\n36.03 %\n36.20 %\n36.38 %\n36.56 %\n36.73 %\n36.91 %\n37.08 %\n37.26 %\n37.43 %\n37.61 %\n37.79 %\n37.96 %\n38.14 %\n38.31 %\n38.49 %\n38.66 %\n38.84 %\n39.02 %\n39.19 %\n39.37 %\n39.54 %\n39.72 %\n39.89 %\n40.07 %\n40.25 %\n40.42 %\n40.60 %\n40.77 %\n40.95 %\n41.12 %\n41.30 %\n41.48 %\n41.65 %\n41.83 %\n42.00 %\n42.18 %\n42.36 %\n42.53 %\n42.71 %\n42.88 %\n43.06 %\n43.23 %\n43.41 %\n43.59 %\n43.76 %\n43.94 %\n44.11 %\n44.29 %\n44.46 %\n44.64 %\n44.82 %\n44.99 %\n45.17 %\n45.34 %\n45.52 %\n45.69 %\n45.87 %\n46.05 %\n46.22 %\n46.40 %\n46.57 %\n46.75 %\n46.92 %\n47.10 %\n47.28 %\n47.45 %\n47.63 %\n47.80 %\n47.98 %\n48.15 %\n48.33 %\n48.51 %\n48.68 %\n48.86 %\n49.03 %\n49.21 %\n49.38 %\n49.56 %\n49.74 %\n49.91 %\n50.09 %\n50.26 %\n50.44 %\n50.62 %\n50.79 %\n50.97 %\n51.14 %\n51.32 %\n51.49 %\n51.67 %\n51.85 %\n52.02 %\n52.20 %\n52.37 %\n52.55 %\n52.72 %\n52.90 %\n53.08 %\n53.25 %\n53.43 %\n53.60 %\n53.78 %\n53.95 %\n54.13 %\n54.31 %\n54.48 %\n54.66 %\n54.83 %\n55.01 %\n55.18 %\n55.36 %\n55.54 %\n55.71 %\n55.89 %\n56.06 %\n56.24 %\n56.41 %\n56.59 %\n56.77 %\n56.94 %\n57.12 %\n57.29 %\n57.47 %\n57.64 %\n57.82 %\n58.00 %\n58.17 %\n58.35 %\n58.52 %\n58.70 %\n58.88 %\n59.05 %\n59.23 %\n59.40 %\n59.58 %\n59.75 %\n59.93 %\n60.11 %\n60.28 %\n60.46 %\n60.63 %\n60.81 %\n60.98 %\n61.16 %\n61.34 %\n61.51 %\n61.69 %\n61.86 %\n62.04 %\n62.21 %\n62.39 %\n62.57 %\n62.74 %\n62.92 %\n63.09 %\n63.27 %\n63.44 %\n63.62 %\n63.80 %\n63.97 %\n64.15 %\n64.32 %\n64.50 %\n64.67 %\n64.85 %\n65.03 %\n65.20 %\n65.38 %\n65.55 %\n65.73 %\n65.91 %\n66.08 %\n66.26 %\n66.43 %\n66.61 %\n66.78 %\n66.96 %\n67.14 %\n67.31 %\n67.49 %\n67.66 %\n67.84 %\n68.01 %\n68.19 %\n68.37 %\n68.54 %\n68.72 %\n68.89 %\n69.07 %\n69.24 %\n69.42 %\n69.60 %\n69.77 %\n69.95 %\n70.12 %\n70.30 %\n70.47 %\n70.65 %\n70.83 %\n71.00 %\n71.18 %\n71.35 %\n71.53 %\n71.70 %\n71.88 %\n72.06 %\n72.23 %\n72.41 %\n72.58 %\n72.76 %\n72.93 %\n73.11 %\n73.29 %\n73.46 %\n73.64 %\n73.81 %\n73.99 %\n74.17 %\n74.34 %\n74.52 %\n74.69 %\n74.87 %\n75.04 %\n75.22 %\n75.40 %\n75.57 %\n75.75 %\n75.92 %\n76.10 %\n76.27 %\n76.45 %\n76.63 %\n76.80 %\n76.98 %\n77.15 %\n77.33 %\n77.50 %\n77.68 %\n77.86 %\n78.03 %\n78.21 %\n78.38 %\n78.56 %\n78.73 %\n78.91 %\n79.09 %\n79.26 %\n79.44 %\n79.61 %\n79.79 %\n79.96 %\n80.14 %\n80.32 %\n80.49 %\n80.67 %\n80.84 %\n81.02 %\n81.20 %\n81.37 %\n81.55 %\n81.72 %\n81.90 %\n82.07 %\n82.25 %\n82.43 %\n82.60 %\n82.78 %\n82.95 %\n83.13 %\n83.30 %\n83.48 %\n83.66 %\n83.83 %\n84.01 %\n84.18 %\n84.36 %\n84.53 %\n84.71 %\n84.89 %\n85.06 %\n85.24 %\n85.41 %\n85.59 %\n85.76 %\n85.94 %\n86.12 %\n86.29 %\n86.47 %\n86.64 %\n86.82 %\n86.99 %\n87.17 %\n87.35 %\n87.52 %\n87.70 %\n87.87 %\n88.05 %\n88.22 %\n88.40 %\n88.58 %\n88.75 %\n88.93 %\n89.10 %\n89.28 %\n89.46 %\n89.63 %\n89.81 %\n89.98 %\n90.16 %\n90.33 %\n90.51 %\n90.69 %\n90.86 %\n91.04 %\n91.21 %\n91.39 %\n91.56 %\n91.74 %\n91.92 %\n92.09 %\n92.27 %\n92.44 %\n92.62 %\n92.79 %\n92.97 %\n93.15 %\n93.32 %\n93.50 %\n93.67 %\n93.85 %\n94.02 %\n94.20 %\n94.38 %\n94.55 %\n94.73 %\n94.90 %\n95.08 %\n95.25 %\n95.43 %\n95.61 %\n95.78 %\n95.96 %\n96.13 %\n96.31 %\n96.49 %\n96.66 %\n96.84 %\n97.01 %\n97.19 %\n97.36 %\n97.54 %\n97.72 %\n97.89 %\n98.07 %\n98.24 %\n98.42 %\n98.59 %\n98.77 %\n98.95 %\n99.12 %\n99.30 %\n99.47 %\n99.65 %\n99.82 %\n100.00 %\n"
    }
   ],
   "source": [
    "snn = spiking_neural_network()\n",
    "snn.generate_network()\n",
    "snn.train(x, y, time, epochs=1)"
   ]
  },
  {
   "cell_type": "code",
   "execution_count": 13,
   "metadata": {},
   "outputs": [
    {
     "output_type": "display_data",
     "data": {
      "text/html": "\n\n\n\n\n\n  <div class=\"bk-root\" id=\"a94f545c-cde6-4cc8-83c5-f34492eddb90\" data-root-id=\"1002\"></div>\n"
     },
     "metadata": {}
    },
    {
     "output_type": "display_data",
     "data": {
      "application/javascript": "(function(root) {\n  function embed_document(root) {\n    \n  var docs_json = {\"35913609-76cb-4e17-b032-c835858d13f2\":{\"roots\":{\"references\":[{\"attributes\":{\"below\":[{\"id\":\"1011\"}],\"center\":[{\"id\":\"1014\"},{\"id\":\"1018\"},{\"id\":\"1045\"}],\"left\":[{\"id\":\"1015\"}],\"plot_height\":400,\"renderers\":[{\"id\":\"1036\"},{\"id\":\"1050\"}],\"title\":{\"id\":\"1038\"},\"toolbar\":{\"id\":\"1026\"},\"x_range\":{\"id\":\"1003\"},\"x_scale\":{\"id\":\"1007\"},\"y_range\":{\"id\":\"1005\"},\"y_scale\":{\"id\":\"1009\"}},\"id\":\"1002\",\"subtype\":\"Figure\",\"type\":\"Plot\"},{\"attributes\":{},\"id\":\"1012\",\"type\":\"BasicTicker\"},{\"attributes\":{\"data\":{\"x\":[0,1,2,3,4,5,6,7,8,9,10,11,12,13,14,15,16,17,18,19,20,21,22,23,24,25,26,27,28,29,30,31,32,33,34,35,36,37,38,39,40,41,42,43,44,45,46,47,48,49,50,51,52,53,54,55,56,57,58,59,60,61,62,63,64,65,66,67,68,69,70,71,72,73,74,75,76,77,78,79,80,81,82,83,84,85,86,87,88,89,90,91,92,93,94,95,96,97,98,99,100],\"y\":[0,-0.125,-0.25,2.4731096738085583,12.059925641396475,31.920612704663757,46.16366129184498,46.4572114677441,46.87341211689609,47.51426928635854,47.38926928635854,47.26426928635854,49.9873789601671,54.391941210792396,64.04271211529412,63.91771211529412,72.21899409001624,80.6404219902019,88.959368055698,92.4721896201047,96.31959042791121,100.7241526785365,0,0,0,0,0,8.13488976586218,16.055355785754443,18.11779961565621,26.81983758757935,30.155260242349698,30.030260242349698,34.32876561968709,36.137084840287926,37.41217146141291,41.45465397686358,41.32965397686358,51.32987039596988,56.41818913440291,63.43547083416897,66.0891385327558,68.46890214887209,77.79013679511105,80.42096421514826,83.7501659780611,86.83754347006372,99.33843625084216,103.55554811576516,0,0,0,0,0,4.680075804138974,5.105877235176098,4.980877235176098,12.174098782725288,19.957306910618936,23.56245015663664,33.72702871515081,45.26867106119611,51.21474539763145,51.46721167214068,51.34221167214068,53.21416302687684,57.95736966712022,59.35748323143669,67.88608765187487,68.73288038126239,73.1393388576875,78.9828577074239,83.95517128715024,89.2990561131702,94.382250124251,94.257250124251,99.31306070667425,99.83887981641381,106.94735418728041,0,0,0,0,0,5.273958010063201,12.151840235908105,22.801551177053057,27.864894658308152,30.680794709782333,37.25130860548901,44.03771227756235,45.45300799789587,47.51426928635854,54.76194382250111,60.90043445884372,68.29066594435233,73.01407714134847,79.17173938383985,86.06368070574763,88.36640959446866,89.22648247122201]},\"selected\":{\"id\":\"1070\"},\"selection_policy\":{\"id\":\"1071\"}},\"id\":\"1047\",\"type\":\"ColumnDataSource\"},{\"attributes\":{},\"id\":\"1058\",\"type\":\"Selection\"},{\"attributes\":{\"label\":{\"value\":\"LIF 2\"},\"renderers\":[{\"id\":\"1050\"}]},\"id\":\"1061\",\"type\":\"LegendItem\"},{\"attributes\":{\"line_color\":\"#CA4678\",\"line_width\":1.5,\"x\":{\"field\":\"x\"},\"y\":{\"field\":\"y\"}},\"id\":\"1048\",\"type\":\"Line\"},{\"attributes\":{\"items\":[{\"id\":\"1046\"},{\"id\":\"1061\"}]},\"id\":\"1045\",\"type\":\"Legend\"},{\"attributes\":{\"source\":{\"id\":\"1033\"}},\"id\":\"1037\",\"type\":\"CDSView\"},{\"attributes\":{\"data_source\":{\"id\":\"1047\"},\"glyph\":{\"id\":\"1048\"},\"hover_glyph\":null,\"muted_glyph\":null,\"nonselection_glyph\":{\"id\":\"1049\"},\"selection_glyph\":null,\"view\":{\"id\":\"1051\"}},\"id\":\"1050\",\"type\":\"GlyphRenderer\"},{\"attributes\":{},\"id\":\"1070\",\"type\":\"Selection\"},{\"attributes\":{},\"id\":\"1003\",\"type\":\"DataRange1d\"},{\"attributes\":{},\"id\":\"1041\",\"type\":\"BasicTickFormatter\"},{\"attributes\":{\"source\":{\"id\":\"1047\"}},\"id\":\"1051\",\"type\":\"CDSView\"},{\"attributes\":{\"text\":\"\"},\"id\":\"1038\",\"type\":\"Title\"},{\"attributes\":{},\"id\":\"1023\",\"type\":\"ResetTool\"},{\"attributes\":{\"bottom_units\":\"screen\",\"fill_alpha\":0.5,\"fill_color\":\"lightgrey\",\"left_units\":\"screen\",\"level\":\"overlay\",\"line_alpha\":1.0,\"line_color\":\"black\",\"line_dash\":[4,4],\"line_width\":2,\"render_mode\":\"css\",\"right_units\":\"screen\",\"top_units\":\"screen\"},\"id\":\"1025\",\"type\":\"BoxAnnotation\"},{\"attributes\":{\"line_color\":\"#0C0786\",\"line_width\":1.5,\"x\":{\"field\":\"x\"},\"y\":{\"field\":\"y\"}},\"id\":\"1034\",\"type\":\"Line\"},{\"attributes\":{\"axis\":{\"id\":\"1011\"},\"ticker\":null},\"id\":\"1014\",\"type\":\"Grid\"},{\"attributes\":{\"formatter\":{\"id\":\"1041\"},\"ticker\":{\"id\":\"1012\"}},\"id\":\"1011\",\"type\":\"LinearAxis\"},{\"attributes\":{},\"id\":\"1043\",\"type\":\"BasicTickFormatter\"},{\"attributes\":{\"active_drag\":\"auto\",\"active_inspect\":\"auto\",\"active_multi\":null,\"active_scroll\":\"auto\",\"active_tap\":\"auto\",\"tools\":[{\"id\":\"1019\"},{\"id\":\"1020\"},{\"id\":\"1021\"},{\"id\":\"1022\"},{\"id\":\"1023\"},{\"id\":\"1024\"}]},\"id\":\"1026\",\"type\":\"Toolbar\"},{\"attributes\":{\"line_alpha\":0.1,\"line_color\":\"#0C0786\",\"line_width\":1.5,\"x\":{\"field\":\"x\"},\"y\":{\"field\":\"y\"}},\"id\":\"1035\",\"type\":\"Line\"},{\"attributes\":{},\"id\":\"1016\",\"type\":\"BasicTicker\"},{\"attributes\":{\"data_source\":{\"id\":\"1033\"},\"glyph\":{\"id\":\"1034\"},\"hover_glyph\":null,\"muted_glyph\":null,\"nonselection_glyph\":{\"id\":\"1035\"},\"selection_glyph\":null,\"view\":{\"id\":\"1037\"}},\"id\":\"1036\",\"type\":\"GlyphRenderer\"},{\"attributes\":{},\"id\":\"1071\",\"type\":\"UnionRenderers\"},{\"attributes\":{\"data\":{\"x\":[0,1,2,3,4,5,6,7,8,9,10,11,12,13,14,15,16,17,18,19,20,21,22,23,24,25,26,27,28,29,30,31,32,33,34,35,36,37,38,39,40,41,42,43,44,45,46,47,48,49,50,51,52,53,54,55,56,57,58,59,60,61,62,63,64,65,66,67,68,69,70,71,72,73,74,75,76,77,78,79,80,81,82,83,84,85,86,87,88,89,90,91,92,93,94,95,96,97,98,99,100],\"y\":[0,-0.125,-0.25,1.4457772612158841,11.466283572446722,31.46325962398442,42.72510522403355,44.65029664865163,44.687440473769634,45.292083723495075,45.167083723495075,45.042083723495075,46.73786098471096,50.75336443021348,60.67920048564201,60.55420048564201,68.45596563172006,75.86386320120855,82.39958495347796,87.39404156624775,91.26315763336261,95.27866107886513,95.31580490398312,96.50434414098035,100.94051625283753,0,0,0,0,0,8.210485458751464,11.943796732461077,11.818796732461077,18.93293143451941,20.20658754368015,20.34220701463213,25.286430599222975,25.161430599222975,32.695964818839016,39.27697087040814,43.882322546817946,46.50465378244793,47.728383255977526,57.04028877644034,59.198945144004156,63.52256309561311,65.89995835805715,78.84348067303084,83.09955277805619,86.33409117800305,90.28267265243207,96.72241259461413,99.01292798888639,101.84941196992338,0,0,0,0,0,3.370848558458891,13.62984783016315,23.824409523436003,29.308957119306164,29.292436406617483,29.167436406617483,30.17126175940108,34.887716163891554,36.70747134043186,46.76297996626571,47.86015380158771,51.165151474844215,55.252418863819265,58.88407543656246,64.46047394074799,69.83318225594326,69.70818225594326,73.64377239599345,73.89198994557208,80.75898645434773,84.3060995095222,85.81771811990166,90.43301477020319,97.14698220476393,100.9789425646376,0,0,0,0,0,4.817149270253761,9.86533734163531,13.775198731007332,16.365268513845926,20.920972603420438,25.657466613688243,35.93659560975074,39.767723948072025,44.07997907400359,51.48253628031892,52.84398722506708,54.39709381611722]},\"selected\":{\"id\":\"1058\"},\"selection_policy\":{\"id\":\"1059\"}},\"id\":\"1033\",\"type\":\"ColumnDataSource\"},{\"attributes\":{},\"id\":\"1020\",\"type\":\"WheelZoomTool\"},{\"attributes\":{},\"id\":\"1009\",\"type\":\"LinearScale\"},{\"attributes\":{},\"id\":\"1007\",\"type\":\"LinearScale\"},{\"attributes\":{},\"id\":\"1022\",\"type\":\"SaveTool\"},{\"attributes\":{},\"id\":\"1019\",\"type\":\"PanTool\"},{\"attributes\":{},\"id\":\"1024\",\"type\":\"HelpTool\"},{\"attributes\":{},\"id\":\"1005\",\"type\":\"DataRange1d\"},{\"attributes\":{\"line_alpha\":0.1,\"line_color\":\"#CA4678\",\"line_width\":1.5,\"x\":{\"field\":\"x\"},\"y\":{\"field\":\"y\"}},\"id\":\"1049\",\"type\":\"Line\"},{\"attributes\":{},\"id\":\"1059\",\"type\":\"UnionRenderers\"},{\"attributes\":{\"formatter\":{\"id\":\"1043\"},\"ticker\":{\"id\":\"1016\"}},\"id\":\"1015\",\"type\":\"LinearAxis\"},{\"attributes\":{\"label\":{\"value\":\"LIF 1\"},\"renderers\":[{\"id\":\"1036\"}]},\"id\":\"1046\",\"type\":\"LegendItem\"},{\"attributes\":{\"overlay\":{\"id\":\"1025\"}},\"id\":\"1021\",\"type\":\"BoxZoomTool\"},{\"attributes\":{\"axis\":{\"id\":\"1015\"},\"dimension\":1,\"ticker\":null},\"id\":\"1018\",\"type\":\"Grid\"}],\"root_ids\":[\"1002\"]},\"title\":\"Bokeh Application\",\"version\":\"2.0.2\"}};\n  var render_items = [{\"docid\":\"35913609-76cb-4e17-b032-c835858d13f2\",\"root_ids\":[\"1002\"],\"roots\":{\"1002\":\"a94f545c-cde6-4cc8-83c5-f34492eddb90\"}}];\n  root.Bokeh.embed.embed_items_notebook(docs_json, render_items);\n\n  }\n  if (root.Bokeh !== undefined) {\n    embed_document(root);\n  } else {\n    var attempts = 0;\n    var timer = setInterval(function(root) {\n      if (root.Bokeh !== undefined) {\n        clearInterval(timer);\n        embed_document(root);\n      } else {\n        attempts++;\n        if (attempts > 100) {\n          clearInterval(timer);\n          console.log(\"Bokeh: ERROR: Unable to run BokehJS code because BokehJS library is missing\");\n        }\n      }\n    }, 10, root)\n  }\n})(window);",
      "application/vnd.bokehjs_exec.v0+json": ""
     },
     "metadata": {
      "application/vnd.bokehjs_exec.v0+json": {
       "id": "1002"
      }
     }
    }
   ],
   "source": [
    "p = figure(height=400)\n",
    "color = mpl['Plasma'][3]\n",
    "for i in range(len(snn.layer2)):\n",
    "    # p.vbar(x=time, top=snn.layer2[i].out_array, color=color[i], legend_label='LIF {}'.format(i+1))\n",
    "    p.line(x=time, y=snn.layer2[i].pot_plot, color=color[i], legend_label='LIF {}'.format(i+1), line_width=1.5)\n",
    "    # p.vbar(x=time, top=snn.layer1[i].pot_plot, legend_label='LIF {}'.format(i+1), line_width=1.5)\n",
    "show(p)"
   ]
  },
  {
   "cell_type": "code",
   "execution_count": null,
   "metadata": {},
   "outputs": [],
   "source": []
  }
 ],
 "metadata": {
  "language_info": {
   "codemirror_mode": {
    "name": "ipython",
    "version": 3
   },
   "file_extension": ".py",
   "mimetype": "text/x-python",
   "name": "python",
   "nbconvert_exporter": "python",
   "pygments_lexer": "ipython3",
   "version": "3.7.7-final"
  },
  "orig_nbformat": 2,
  "kernelspec": {
   "name": "python37764bitpy37conda34757eb3777e4ef18aaea4b8199c344c",
   "display_name": "Python 3.7.7 64-bit ('py37': conda)"
  }
 },
 "nbformat": 4,
 "nbformat_minor": 2
}