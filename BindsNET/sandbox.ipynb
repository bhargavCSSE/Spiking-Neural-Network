{
 "cells": [
  {
   "cell_type": "code",
   "execution_count": 2,
   "metadata": {},
   "outputs": [],
   "source": [
    "from bokeh.io import output_notebook, show\n",
    "from bokeh.plotting import figure\n",
    "from bokeh.models import Band, ColumnDataSource\n",
    "import numpy as np\n",
    "import pandas as pd\n",
    "output_notebook()"
   ]
  },
  {
   "cell_type": "code",
   "execution_count": null,
   "metadata": {},
   "outputs": [],
   "source": [
    "Rm = rewards_mean\n",
    "mean_rewards = []\n",
    "std_rewards = []\n",
    "for i in range(len(Rm)):\n",
    "    mean_rewards.append(np.mean(Rm[:(i+1)]))\n",
    "    std_rewards.append(np.std(Rm[:(i+1)]))\n",
    "mean_rewards = np.array(mean_rewards)\n",
    "std_rewards = np.array(std_rewards)\n",
    "\n",
    "source = ColumnDataSource(dict(\n",
    "    x = episodes,\n",
    "    mean = mean_rewards,\n",
    "    std = std_rewards,\n",
    "    upper = mean_rewards + std_rewards,\n",
    "    lower = mean_rewards - std_rewards\n",
    "))\n",
    "\n",
    "p0 = figure(\n",
    "    title = \"Rewards (Mountain car)\",\n",
    "    x_axis_label = \"Episodes\",\n",
    "    y_axis_label = \"Rewards\"\n",
    ")\n",
    "p0.line(x=episodes, y=Rm, line_width=2)\n",
    "\n",
    "p3 = figure(\n",
    "    title = \"Mean-Variance (Mountain car)\",\n",
    "    x_axis_label = \"Episodes\",\n",
    "    y_axis_label = \"Rewards\"\n",
    ")\n",
    "band = Band(base='x', lower='lower', upper='upper', source=source, level='underlay',\n",
    "            fill_alpha=0.2, line_width=1, line_color='black', fill_color='green')\n",
    "p3.line(x=episodes, y=mean_rewards, line_width=2, color='green')\n",
    "p3.add_layout(band)\n",
    "\n",
    "show(p3)"
   ]
  }
 ],
 "metadata": {
  "language_info": {
   "codemirror_mode": {
    "name": "ipython",
    "version": 3
   },
   "file_extension": ".py",
   "mimetype": "text/x-python",
   "name": "python",
   "nbconvert_exporter": "python",
   "pygments_lexer": "ipython3",
   "version": "3.6.9-final"
  },
  "orig_nbformat": 2,
  "kernelspec": {
   "name": "python36964bitf046163c483e4c289e3ad1ebe4f16c22",
   "display_name": "Python 3.6.9 64-bit"
  }
 },
 "nbformat": 4,
 "nbformat_minor": 2
}