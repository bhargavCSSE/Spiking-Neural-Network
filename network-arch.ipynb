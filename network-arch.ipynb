{
 "cells": [
  {
   "cell_type": "code",
   "execution_count": 1,
   "metadata": {},
   "outputs": [
    {
     "output_type": "display_data",
     "data": {
      "text/html": "\n    <div class=\"bk-root\">\n        <a href=\"https://bokeh.org\" target=\"_blank\" class=\"bk-logo bk-logo-small bk-logo-notebook\"></a>\n        <span id=\"1001\">Loading BokehJS ...</span>\n    </div>"
     },
     "metadata": {}
    },
    {
     "output_type": "display_data",
     "data": {
      "application/javascript": "\n(function(root) {\n  function now() {\n    return new Date();\n  }\n\n  var force = true;\n\n  if (typeof root._bokeh_onload_callbacks === \"undefined\" || force === true) {\n    root._bokeh_onload_callbacks = [];\n    root._bokeh_is_loading = undefined;\n  }\n\n  var JS_MIME_TYPE = 'application/javascript';\n  var HTML_MIME_TYPE = 'text/html';\n  var EXEC_MIME_TYPE = 'application/vnd.bokehjs_exec.v0+json';\n  var CLASS_NAME = 'output_bokeh rendered_html';\n\n  /**\n   * Render data to the DOM node\n   */\n  function render(props, node) {\n    var script = document.createElement(\"script\");\n    node.appendChild(script);\n  }\n\n  /**\n   * Handle when an output is cleared or removed\n   */\n  function handleClearOutput(event, handle) {\n    var cell = handle.cell;\n\n    var id = cell.output_area._bokeh_element_id;\n    var server_id = cell.output_area._bokeh_server_id;\n    // Clean up Bokeh references\n    if (id != null && id in Bokeh.index) {\n      Bokeh.index[id].model.document.clear();\n      delete Bokeh.index[id];\n    }\n\n    if (server_id !== undefined) {\n      // Clean up Bokeh references\n      var cmd = \"from bokeh.io.state import curstate; print(curstate().uuid_to_server['\" + server_id + \"'].get_sessions()[0].document.roots[0]._id)\";\n      cell.notebook.kernel.execute(cmd, {\n        iopub: {\n          output: function(msg) {\n            var id = msg.content.text.trim();\n            if (id in Bokeh.index) {\n              Bokeh.index[id].model.document.clear();\n              delete Bokeh.index[id];\n            }\n          }\n        }\n      });\n      // Destroy server and session\n      var cmd = \"import bokeh.io.notebook as ion; ion.destroy_server('\" + server_id + \"')\";\n      cell.notebook.kernel.execute(cmd);\n    }\n  }\n\n  /**\n   * Handle when a new output is added\n   */\n  function handleAddOutput(event, handle) {\n    var output_area = handle.output_area;\n    var output = handle.output;\n\n    // limit handleAddOutput to display_data with EXEC_MIME_TYPE content only\n    if ((output.output_type != \"display_data\") || (!output.data.hasOwnProperty(EXEC_MIME_TYPE))) {\n      return\n    }\n\n    var toinsert = output_area.element.find(\".\" + CLASS_NAME.split(' ')[0]);\n\n    if (output.metadata[EXEC_MIME_TYPE][\"id\"] !== undefined) {\n      toinsert[toinsert.length - 1].firstChild.textContent = output.data[JS_MIME_TYPE];\n      // store reference to embed id on output_area\n      output_area._bokeh_element_id = output.metadata[EXEC_MIME_TYPE][\"id\"];\n    }\n    if (output.metadata[EXEC_MIME_TYPE][\"server_id\"] !== undefined) {\n      var bk_div = document.createElement(\"div\");\n      bk_div.innerHTML = output.data[HTML_MIME_TYPE];\n      var script_attrs = bk_div.children[0].attributes;\n      for (var i = 0; i < script_attrs.length; i++) {\n        toinsert[toinsert.length - 1].firstChild.setAttribute(script_attrs[i].name, script_attrs[i].value);\n        toinsert[toinsert.length - 1].firstChild.textContent = bk_div.children[0].textContent\n      }\n      // store reference to server id on output_area\n      output_area._bokeh_server_id = output.metadata[EXEC_MIME_TYPE][\"server_id\"];\n    }\n  }\n\n  function register_renderer(events, OutputArea) {\n\n    function append_mime(data, metadata, element) {\n      // create a DOM node to render to\n      var toinsert = this.create_output_subarea(\n        metadata,\n        CLASS_NAME,\n        EXEC_MIME_TYPE\n      );\n      this.keyboard_manager.register_events(toinsert);\n      // Render to node\n      var props = {data: data, metadata: metadata[EXEC_MIME_TYPE]};\n      render(props, toinsert[toinsert.length - 1]);\n      element.append(toinsert);\n      return toinsert\n    }\n\n    /* Handle when an output is cleared or removed */\n    events.on('clear_output.CodeCell', handleClearOutput);\n    events.on('delete.Cell', handleClearOutput);\n\n    /* Handle when a new output is added */\n    events.on('output_added.OutputArea', handleAddOutput);\n\n    /**\n     * Register the mime type and append_mime function with output_area\n     */\n    OutputArea.prototype.register_mime_type(EXEC_MIME_TYPE, append_mime, {\n      /* Is output safe? */\n      safe: true,\n      /* Index of renderer in `output_area.display_order` */\n      index: 0\n    });\n  }\n\n  // register the mime type if in Jupyter Notebook environment and previously unregistered\n  if (root.Jupyter !== undefined) {\n    var events = require('base/js/events');\n    var OutputArea = require('notebook/js/outputarea').OutputArea;\n\n    if (OutputArea.prototype.mime_types().indexOf(EXEC_MIME_TYPE) == -1) {\n      register_renderer(events, OutputArea);\n    }\n  }\n\n  \n  if (typeof (root._bokeh_timeout) === \"undefined\" || force === true) {\n    root._bokeh_timeout = Date.now() + 5000;\n    root._bokeh_failed_load = false;\n  }\n\n  var NB_LOAD_WARNING = {'data': {'text/html':\n     \"<div style='background-color: #fdd'>\\n\"+\n     \"<p>\\n\"+\n     \"BokehJS does not appear to have successfully loaded. If loading BokehJS from CDN, this \\n\"+\n     \"may be due to a slow or bad network connection. Possible fixes:\\n\"+\n     \"</p>\\n\"+\n     \"<ul>\\n\"+\n     \"<li>re-rerun `output_notebook()` to attempt to load from CDN again, or</li>\\n\"+\n     \"<li>use INLINE resources instead, as so:</li>\\n\"+\n     \"</ul>\\n\"+\n     \"<code>\\n\"+\n     \"from bokeh.resources import INLINE\\n\"+\n     \"output_notebook(resources=INLINE)\\n\"+\n     \"</code>\\n\"+\n     \"</div>\"}};\n\n  function display_loaded() {\n    var el = document.getElementById(\"1001\");\n    if (el != null) {\n      el.textContent = \"BokehJS is loading...\";\n    }\n    if (root.Bokeh !== undefined) {\n      if (el != null) {\n        el.textContent = \"BokehJS \" + root.Bokeh.version + \" successfully loaded.\";\n      }\n    } else if (Date.now() < root._bokeh_timeout) {\n      setTimeout(display_loaded, 100)\n    }\n  }\n\n\n  function run_callbacks() {\n    try {\n      root._bokeh_onload_callbacks.forEach(function(callback) {\n        if (callback != null)\n          callback();\n      });\n    } finally {\n      delete root._bokeh_onload_callbacks\n    }\n    console.debug(\"Bokeh: all callbacks have finished\");\n  }\n\n  function load_libs(css_urls, js_urls, callback) {\n    if (css_urls == null) css_urls = [];\n    if (js_urls == null) js_urls = [];\n\n    root._bokeh_onload_callbacks.push(callback);\n    if (root._bokeh_is_loading > 0) {\n      console.debug(\"Bokeh: BokehJS is being loaded, scheduling callback at\", now());\n      return null;\n    }\n    if (js_urls == null || js_urls.length === 0) {\n      run_callbacks();\n      return null;\n    }\n    console.debug(\"Bokeh: BokehJS not loaded, scheduling load and callback at\", now());\n    root._bokeh_is_loading = css_urls.length + js_urls.length;\n\n    function on_load() {\n      root._bokeh_is_loading--;\n      if (root._bokeh_is_loading === 0) {\n        console.debug(\"Bokeh: all BokehJS libraries/stylesheets loaded\");\n        run_callbacks()\n      }\n    }\n\n    function on_error() {\n      console.error(\"failed to load \" + url);\n    }\n\n    for (var i = 0; i < css_urls.length; i++) {\n      var url = css_urls[i];\n      const element = document.createElement(\"link\");\n      element.onload = on_load;\n      element.onerror = on_error;\n      element.rel = \"stylesheet\";\n      element.type = \"text/css\";\n      element.href = url;\n      console.debug(\"Bokeh: injecting link tag for BokehJS stylesheet: \", url);\n      document.body.appendChild(element);\n    }\n\n    const hashes = {\"https://cdn.bokeh.org/bokeh/release/bokeh-2.0.2.min.js\": \"ufR9RFnRs6lniiaFvtJziE0YeidtAgBRH6ux2oUItHw5WTvE1zuk9uzhUU/FJXDp\", \"https://cdn.bokeh.org/bokeh/release/bokeh-widgets-2.0.2.min.js\": \"8QM/PGWBT+IssZuRcDcjzwIh1mkOmJSoNMmyYDZbCfXJg3Ap1lEvdVgFuSAwhb/J\", \"https://cdn.bokeh.org/bokeh/release/bokeh-tables-2.0.2.min.js\": \"Jm8cH3Rg0P6UeZhVY5cLy1WzKajUT9KImCY+76hEqrcJt59/d8GPvFHjCkYgnSIn\", \"https://cdn.bokeh.org/bokeh/release/bokeh-gl-2.0.2.min.js\": \"Ozhzj+SI7ywm74aOI/UajcWz+C0NjsPunEVyVIrxzYkB+jA+2tUw8x5xJCbVtK5I\"};\n\n    for (var i = 0; i < js_urls.length; i++) {\n      var url = js_urls[i];\n      var element = document.createElement('script');\n      element.onload = on_load;\n      element.onerror = on_error;\n      element.async = false;\n      element.src = url;\n      if (url in hashes) {\n        element.crossOrigin = \"anonymous\";\n        element.integrity = \"sha384-\" + hashes[url];\n      }\n      console.debug(\"Bokeh: injecting script tag for BokehJS library: \", url);\n      document.head.appendChild(element);\n    }\n  };\n\n  function inject_raw_css(css) {\n    const element = document.createElement(\"style\");\n    element.appendChild(document.createTextNode(css));\n    document.body.appendChild(element);\n  }\n\n  \n  var js_urls = [\"https://cdn.bokeh.org/bokeh/release/bokeh-2.0.2.min.js\", \"https://cdn.bokeh.org/bokeh/release/bokeh-widgets-2.0.2.min.js\", \"https://cdn.bokeh.org/bokeh/release/bokeh-tables-2.0.2.min.js\", \"https://cdn.bokeh.org/bokeh/release/bokeh-gl-2.0.2.min.js\"];\n  var css_urls = [];\n  \n\n  var inline_js = [\n    function(Bokeh) {\n      Bokeh.set_log_level(\"info\");\n    },\n    function(Bokeh) {\n    \n    \n    }\n  ];\n\n  function run_inline_js() {\n    \n    if (root.Bokeh !== undefined || force === true) {\n      \n    for (var i = 0; i < inline_js.length; i++) {\n      inline_js[i].call(root, root.Bokeh);\n    }\n    if (force === true) {\n        display_loaded();\n      }} else if (Date.now() < root._bokeh_timeout) {\n      setTimeout(run_inline_js, 100);\n    } else if (!root._bokeh_failed_load) {\n      console.log(\"Bokeh: BokehJS failed to load within specified timeout.\");\n      root._bokeh_failed_load = true;\n    } else if (force !== true) {\n      var cell = $(document.getElementById(\"1001\")).parents('.cell').data().cell;\n      cell.output_area.append_execute_result(NB_LOAD_WARNING)\n    }\n\n  }\n\n  if (root._bokeh_is_loading === 0) {\n    console.debug(\"Bokeh: BokehJS loaded, going straight to plotting\");\n    run_inline_js();\n  } else {\n    load_libs(css_urls, js_urls, function() {\n      console.debug(\"Bokeh: BokehJS plotting callback run at\", now());\n      run_inline_js();\n    });\n  }\n}(window));",
      "application/vnd.bokehjs_load.v0+json": "\n(function(root) {\n  function now() {\n    return new Date();\n  }\n\n  var force = true;\n\n  if (typeof root._bokeh_onload_callbacks === \"undefined\" || force === true) {\n    root._bokeh_onload_callbacks = [];\n    root._bokeh_is_loading = undefined;\n  }\n\n  \n\n  \n  if (typeof (root._bokeh_timeout) === \"undefined\" || force === true) {\n    root._bokeh_timeout = Date.now() + 5000;\n    root._bokeh_failed_load = false;\n  }\n\n  var NB_LOAD_WARNING = {'data': {'text/html':\n     \"<div style='background-color: #fdd'>\\n\"+\n     \"<p>\\n\"+\n     \"BokehJS does not appear to have successfully loaded. If loading BokehJS from CDN, this \\n\"+\n     \"may be due to a slow or bad network connection. Possible fixes:\\n\"+\n     \"</p>\\n\"+\n     \"<ul>\\n\"+\n     \"<li>re-rerun `output_notebook()` to attempt to load from CDN again, or</li>\\n\"+\n     \"<li>use INLINE resources instead, as so:</li>\\n\"+\n     \"</ul>\\n\"+\n     \"<code>\\n\"+\n     \"from bokeh.resources import INLINE\\n\"+\n     \"output_notebook(resources=INLINE)\\n\"+\n     \"</code>\\n\"+\n     \"</div>\"}};\n\n  function display_loaded() {\n    var el = document.getElementById(\"1001\");\n    if (el != null) {\n      el.textContent = \"BokehJS is loading...\";\n    }\n    if (root.Bokeh !== undefined) {\n      if (el != null) {\n        el.textContent = \"BokehJS \" + root.Bokeh.version + \" successfully loaded.\";\n      }\n    } else if (Date.now() < root._bokeh_timeout) {\n      setTimeout(display_loaded, 100)\n    }\n  }\n\n\n  function run_callbacks() {\n    try {\n      root._bokeh_onload_callbacks.forEach(function(callback) {\n        if (callback != null)\n          callback();\n      });\n    } finally {\n      delete root._bokeh_onload_callbacks\n    }\n    console.debug(\"Bokeh: all callbacks have finished\");\n  }\n\n  function load_libs(css_urls, js_urls, callback) {\n    if (css_urls == null) css_urls = [];\n    if (js_urls == null) js_urls = [];\n\n    root._bokeh_onload_callbacks.push(callback);\n    if (root._bokeh_is_loading > 0) {\n      console.debug(\"Bokeh: BokehJS is being loaded, scheduling callback at\", now());\n      return null;\n    }\n    if (js_urls == null || js_urls.length === 0) {\n      run_callbacks();\n      return null;\n    }\n    console.debug(\"Bokeh: BokehJS not loaded, scheduling load and callback at\", now());\n    root._bokeh_is_loading = css_urls.length + js_urls.length;\n\n    function on_load() {\n      root._bokeh_is_loading--;\n      if (root._bokeh_is_loading === 0) {\n        console.debug(\"Bokeh: all BokehJS libraries/stylesheets loaded\");\n        run_callbacks()\n      }\n    }\n\n    function on_error() {\n      console.error(\"failed to load \" + url);\n    }\n\n    for (var i = 0; i < css_urls.length; i++) {\n      var url = css_urls[i];\n      const element = document.createElement(\"link\");\n      element.onload = on_load;\n      element.onerror = on_error;\n      element.rel = \"stylesheet\";\n      element.type = \"text/css\";\n      element.href = url;\n      console.debug(\"Bokeh: injecting link tag for BokehJS stylesheet: \", url);\n      document.body.appendChild(element);\n    }\n\n    const hashes = {\"https://cdn.bokeh.org/bokeh/release/bokeh-2.0.2.min.js\": \"ufR9RFnRs6lniiaFvtJziE0YeidtAgBRH6ux2oUItHw5WTvE1zuk9uzhUU/FJXDp\", \"https://cdn.bokeh.org/bokeh/release/bokeh-widgets-2.0.2.min.js\": \"8QM/PGWBT+IssZuRcDcjzwIh1mkOmJSoNMmyYDZbCfXJg3Ap1lEvdVgFuSAwhb/J\", \"https://cdn.bokeh.org/bokeh/release/bokeh-tables-2.0.2.min.js\": \"Jm8cH3Rg0P6UeZhVY5cLy1WzKajUT9KImCY+76hEqrcJt59/d8GPvFHjCkYgnSIn\", \"https://cdn.bokeh.org/bokeh/release/bokeh-gl-2.0.2.min.js\": \"Ozhzj+SI7ywm74aOI/UajcWz+C0NjsPunEVyVIrxzYkB+jA+2tUw8x5xJCbVtK5I\"};\n\n    for (var i = 0; i < js_urls.length; i++) {\n      var url = js_urls[i];\n      var element = document.createElement('script');\n      element.onload = on_load;\n      element.onerror = on_error;\n      element.async = false;\n      element.src = url;\n      if (url in hashes) {\n        element.crossOrigin = \"anonymous\";\n        element.integrity = \"sha384-\" + hashes[url];\n      }\n      console.debug(\"Bokeh: injecting script tag for BokehJS library: \", url);\n      document.head.appendChild(element);\n    }\n  };\n\n  function inject_raw_css(css) {\n    const element = document.createElement(\"style\");\n    element.appendChild(document.createTextNode(css));\n    document.body.appendChild(element);\n  }\n\n  \n  var js_urls = [\"https://cdn.bokeh.org/bokeh/release/bokeh-2.0.2.min.js\", \"https://cdn.bokeh.org/bokeh/release/bokeh-widgets-2.0.2.min.js\", \"https://cdn.bokeh.org/bokeh/release/bokeh-tables-2.0.2.min.js\", \"https://cdn.bokeh.org/bokeh/release/bokeh-gl-2.0.2.min.js\"];\n  var css_urls = [];\n  \n\n  var inline_js = [\n    function(Bokeh) {\n      Bokeh.set_log_level(\"info\");\n    },\n    function(Bokeh) {\n    \n    \n    }\n  ];\n\n  function run_inline_js() {\n    \n    if (root.Bokeh !== undefined || force === true) {\n      \n    for (var i = 0; i < inline_js.length; i++) {\n      inline_js[i].call(root, root.Bokeh);\n    }\n    if (force === true) {\n        display_loaded();\n      }} else if (Date.now() < root._bokeh_timeout) {\n      setTimeout(run_inline_js, 100);\n    } else if (!root._bokeh_failed_load) {\n      console.log(\"Bokeh: BokehJS failed to load within specified timeout.\");\n      root._bokeh_failed_load = true;\n    } else if (force !== true) {\n      var cell = $(document.getElementById(\"1001\")).parents('.cell').data().cell;\n      cell.output_area.append_execute_result(NB_LOAD_WARNING)\n    }\n\n  }\n\n  if (root._bokeh_is_loading === 0) {\n    console.debug(\"Bokeh: BokehJS loaded, going straight to plotting\");\n    run_inline_js();\n  } else {\n    load_libs(css_urls, js_urls, function() {\n      console.debug(\"Bokeh: BokehJS plotting callback run at\", now());\n      run_inline_js();\n    });\n  }\n}(window));"
     },
     "metadata": {}
    }
   ],
   "source": [
    "import numpy as np\n",
    "from time import sleep\n",
    "from neurons import poisson, LIF\n",
    "from bokeh.io import output_notebook\n",
    "from bokeh.plotting import figure, show\n",
    "from bokeh.palettes import mpl\n",
    "output_notebook()"
   ]
  },
  {
   "cell_type": "code",
   "execution_count": 8,
   "metadata": {},
   "outputs": [],
   "source": [
    "class spiking_neural_network:\n",
    "    def __init__(self):\n",
    "        self.x = []\n",
    "        self.y = []\n",
    "        self.layer0 = []\n",
    "        self.layer1 = []\n",
    "        self.layer2 = []\n",
    "        self.layer0_eval = []\n",
    "        self.w01 = []\n",
    "        self.w12 = []\n",
    "    \n",
    "    def generate_network(self):\n",
    "        for i in range(2):\n",
    "            self.layer0.append(poisson())\n",
    "        for i in range(15):\n",
    "            self.layer1.append(LIF())\n",
    "        for i in range(1):\n",
    "            self.layer2.append(LIF())\n",
    "            self.layer2[i].update_threshold(4)\n",
    "\n",
    "        self.w01 = np.random.rand(2, 15)\n",
    "        self.w12 = np.random.rand(15, 1)\n",
    "\n",
    "    def test(self, x, time):\n",
    "        dt = time[1] - time[0]\n",
    "        \n",
    "        for i in range(len(self.layer0)):\n",
    "            self.layer0_eval.append(self.layer0[i].execute(x[i], time))\n",
    "\n",
    "        syn01 = []\n",
    "        for i in range(len(self.layer1)):\n",
    "            sum = 0\n",
    "            for j in range(len(self.layer0)):\n",
    "                sum += self.layer0_eval[j]*self.w01[j, i]\n",
    "            syn01.append(sum)\n",
    "        syn01 = np.array(syn01)\n",
    "\n",
    "        for i, t in enumerate(time):\n",
    "            for j in range(len(self.layer1)):\n",
    "                self.layer1[j].execute(syn01[j, i], t)\n",
    "\n",
    "            for j in range(len(self.layer2)):\n",
    "                syn = 0\n",
    "                for k in range(len(self.layer1)):\n",
    "                    syn += self.w12[k, j]*self.layer1[k].out\n",
    "                self.layer2[j].execute(syn, t)\n",
    "            \n",
    "            # sleep(dt/100)\n",
    "        "
   ]
  },
  {
   "cell_type": "code",
   "execution_count": 47,
   "metadata": {},
   "outputs": [
    {
     "output_type": "display_data",
     "data": {
      "text/html": "\n\n\n\n\n\n  <div class=\"bk-root\" id=\"0ce00895-73ad-4b39-bf3e-6c273a5a28b1\" data-root-id=\"11883\"></div>\n"
     },
     "metadata": {}
    },
    {
     "output_type": "display_data",
     "data": {
      "application/javascript": "(function(root) {\n  function embed_document(root) {\n    \n  var docs_json = {\"6be0afcf-9ce6-47ab-b2ad-9f23659725ac\":{\"roots\":{\"references\":[{\"attributes\":{\"below\":[{\"id\":\"11892\"}],\"center\":[{\"id\":\"11895\"},{\"id\":\"11899\"},{\"id\":\"11926\"}],\"left\":[{\"id\":\"11896\"}],\"plot_height\":400,\"renderers\":[{\"id\":\"11917\"}],\"title\":{\"id\":\"11919\"},\"toolbar\":{\"id\":\"11907\"},\"x_range\":{\"id\":\"11884\"},\"x_scale\":{\"id\":\"11888\"},\"y_range\":{\"id\":\"11886\"},\"y_scale\":{\"id\":\"11890\"}},\"id\":\"11883\",\"subtype\":\"Figure\",\"type\":\"Plot\"},{\"attributes\":{\"data_source\":{\"id\":\"11914\"},\"glyph\":{\"id\":\"11915\"},\"hover_glyph\":null,\"muted_glyph\":null,\"nonselection_glyph\":{\"id\":\"11916\"},\"selection_glyph\":null,\"view\":{\"id\":\"11918\"}},\"id\":\"11917\",\"type\":\"GlyphRenderer\"},{\"attributes\":{},\"id\":\"11903\",\"type\":\"SaveTool\"},{\"attributes\":{\"bottom_units\":\"screen\",\"fill_alpha\":0.5,\"fill_color\":\"lightgrey\",\"left_units\":\"screen\",\"level\":\"overlay\",\"line_alpha\":1.0,\"line_color\":\"black\",\"line_dash\":[4,4],\"line_width\":2,\"render_mode\":\"css\",\"right_units\":\"screen\",\"top_units\":\"screen\"},\"id\":\"11906\",\"type\":\"BoxAnnotation\"},{\"attributes\":{},\"id\":\"11884\",\"type\":\"DataRange1d\"},{\"attributes\":{},\"id\":\"11897\",\"type\":\"BasicTicker\"},{\"attributes\":{},\"id\":\"11904\",\"type\":\"ResetTool\"},{\"attributes\":{\"formatter\":{\"id\":\"11923\"},\"ticker\":{\"id\":\"11897\"}},\"id\":\"11896\",\"type\":\"LinearAxis\"},{\"attributes\":{\"source\":{\"id\":\"11914\"}},\"id\":\"11918\",\"type\":\"CDSView\"},{\"attributes\":{\"line_alpha\":0.1,\"line_color\":\"#0C0786\",\"line_width\":1.5,\"x\":{\"field\":\"x\"},\"y\":{\"field\":\"y\"}},\"id\":\"11916\",\"type\":\"Line\"},{\"attributes\":{},\"id\":\"12286\",\"type\":\"UnionRenderers\"},{\"attributes\":{},\"id\":\"11900\",\"type\":\"PanTool\"},{\"attributes\":{\"text\":\"\"},\"id\":\"11919\",\"type\":\"Title\"},{\"attributes\":{},\"id\":\"11923\",\"type\":\"BasicTickFormatter\"},{\"attributes\":{},\"id\":\"11890\",\"type\":\"LinearScale\"},{\"attributes\":{\"active_drag\":\"auto\",\"active_inspect\":\"auto\",\"active_multi\":null,\"active_scroll\":\"auto\",\"active_tap\":\"auto\",\"tools\":[{\"id\":\"11900\"},{\"id\":\"11901\"},{\"id\":\"11902\"},{\"id\":\"11903\"},{\"id\":\"11904\"},{\"id\":\"11905\"}]},\"id\":\"11907\",\"type\":\"Toolbar\"},{\"attributes\":{\"line_color\":\"#0C0786\",\"line_width\":1.5,\"x\":{\"field\":\"x\"},\"y\":{\"field\":\"y\"}},\"id\":\"11915\",\"type\":\"Line\"},{\"attributes\":{\"data\":{\"x\":{\"__ndarray__\":\"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\",\"dtype\":\"float64\",\"shape\":[201]},\"y\":[0,-0.125,-0.25,-0.375,-0.5,-0.625,-0.75,0.6787372614695801,1.609199526312319,2.922233711031608,3.2987116277948747,3.866762647250657,4.530801558234258,0,0,0,0,0,0,0,0,0,0,-0.125,1.4851665343978326,1.3601665343978326,1.2351665343978326,1.1101665343978326,0.9851665343978326,0.8601665343978326,0.7351665343978326,1.4841995263123193,1.3591995263123193,1.2341995263123193,1.1091995263123193,0.9841995263123193,2.3618569713726076,2.2368569713726076,2.6133348881358742,4.614238658069832,0,0,0,0,0,0,0,0,0,0,-0.125,-0.25,-0.375,-0.5,0.2490329919144867,0.12403299191448669,-0.0009670080855133101,-0.1259670080855133,-0.2509670080855133,-0.3759670080855133,-0.5009670080855133,2.5472337110316086,2.986160568738565,2.861160568738565,3.865957752653637,3.740957752653637,3.615957752653637,3.9924356694169036,3.8674356694169036,3.7424356694169036,3.6174356694169036,3.4924356694169036,3.3674356694169036,4.333788364320162,0,0,0,0,0,0,0,0,0,0,-0.125,1.9270941330982359,2.7567582263413177,2.6317582263413177,2.5067582263413177,2.3817582263413177,2.2567582263413177,2.1317582263413177,3.3822691350190714,3.2572691350190714,3.8246142624610813,3.6996142624610813,4.363653173444683,0,0,0,0,0,0,0,0,0,0,-0.125,-0.25,-0.375,-0.5,0.9413781193564965,0.8163781193564965,0.6913781193564965,0.5663781193564965,0.4413781193564965,0.3163781193564965,0.1913781193564965,1.6731263840192758,1.5481263840192758,1.9246043007825426,1.7996043007825426,1.6746043007825426,1.5496043007825426,1.4246043007825426,1.2996043007825426,1.1746043007825426,1.0496043007825426,0.9246043007825426,0.7996043007825426,0.6746043007825426,0.5496043007825426,0.42460430078254263,0.29960430078254263,0.17460430078254263,0.04960430078254263,-0.07539569921745737,-0.20039569921745737,1.1126384855018319,0.9876384855018319,0.8626384855018319,1.0399522694214887,3.2703692997615863,4.397498669325282,0,0,0,0,0,0,0,0,0,0,-0.125,-0.25,1.0630341847192892,0.9380341847192892,0.8130341847192892,0.6880341847192892,0.5630341847192892,0.43803418471928923,0.31303418471928923,0.18803418471928923,0.06303418471928923,2.365804438103356,2.240804438103356,2.8548643864823022,2.7298643864823022,3.0886074433302113,2.9636074433302113,2.8386074433302113,2.7136074433302113,2.5886074433302113,2.4636074433302113,2.3386074433302113,3.5041242710770795,3.3791242710770795,3.644861506613205,4.309349483139161,0,0,0,0,0,0,0,0,0,0,-0.125,-0.25,-0.07268621608034309,-0.1976862160803431,-0.3226862160803431,-0.4476862160803431,-0.5726862160803431,-0.19620829931707628,-0.3212082993170763,-0.4462082993170763,-0.5712082993170763]},\"selected\":{\"id\":\"12287\"},\"selection_policy\":{\"id\":\"12286\"}},\"id\":\"11914\",\"type\":\"ColumnDataSource\"},{\"attributes\":{\"items\":[{\"id\":\"11927\"}]},\"id\":\"11926\",\"type\":\"Legend\"},{\"attributes\":{},\"id\":\"11921\",\"type\":\"BasicTickFormatter\"},{\"attributes\":{\"overlay\":{\"id\":\"11906\"}},\"id\":\"11902\",\"type\":\"BoxZoomTool\"},{\"attributes\":{\"axis\":{\"id\":\"11892\"},\"ticker\":null},\"id\":\"11895\",\"type\":\"Grid\"},{\"attributes\":{\"label\":{\"value\":\"LIF 1\"},\"renderers\":[{\"id\":\"11917\"}]},\"id\":\"11927\",\"type\":\"LegendItem\"},{\"attributes\":{},\"id\":\"12287\",\"type\":\"Selection\"},{\"attributes\":{},\"id\":\"11901\",\"type\":\"WheelZoomTool\"},{\"attributes\":{},\"id\":\"11886\",\"type\":\"DataRange1d\"},{\"attributes\":{},\"id\":\"11893\",\"type\":\"BasicTicker\"},{\"attributes\":{\"formatter\":{\"id\":\"11921\"},\"ticker\":{\"id\":\"11893\"}},\"id\":\"11892\",\"type\":\"LinearAxis\"},{\"attributes\":{},\"id\":\"11888\",\"type\":\"LinearScale\"},{\"attributes\":{\"axis\":{\"id\":\"11896\"},\"dimension\":1,\"ticker\":null},\"id\":\"11899\",\"type\":\"Grid\"},{\"attributes\":{},\"id\":\"11905\",\"type\":\"HelpTool\"}],\"root_ids\":[\"11883\"]},\"title\":\"Bokeh Application\",\"version\":\"2.0.2\"}};\n  var render_items = [{\"docid\":\"6be0afcf-9ce6-47ab-b2ad-9f23659725ac\",\"root_ids\":[\"11883\"],\"roots\":{\"11883\":\"0ce00895-73ad-4b39-bf3e-6c273a5a28b1\"}}];\n  root.Bokeh.embed.embed_items_notebook(docs_json, render_items);\n\n  }\n  if (root.Bokeh !== undefined) {\n    embed_document(root);\n  } else {\n    var attempts = 0;\n    var timer = setInterval(function(root) {\n      if (root.Bokeh !== undefined) {\n        clearInterval(timer);\n        embed_document(root);\n      } else {\n        attempts++;\n        if (attempts > 100) {\n          clearInterval(timer);\n          console.log(\"Bokeh: ERROR: Unable to run BokehJS code because BokehJS library is missing\");\n        }\n      }\n    }, 10, root)\n  }\n})(window);",
      "application/vnd.bokehjs_exec.v0+json": ""
     },
     "metadata": {
      "application/vnd.bokehjs_exec.v0+json": {
       "id": "11883"
      }
     }
    }
   ],
   "source": [
    "T = 100\n",
    "dt = 0.5\n",
    "time = np.arange(0, T+dt, dt)\n",
    "\n",
    "x = np.array([[0, 0], [0, 1], [1, 0], [1, 1]])\n",
    "\n",
    "snn = spiking_neural_network()\n",
    "snn.generate_network()\n",
    "snn.test([0.5, 0.8], time)\n",
    "\n",
    "p = figure(height=400)\n",
    "color = mpl['Plasma'][3]\n",
    "for i in range(len(snn.layer2)):\n",
    "    # p.vbar(x=time, top=snn.layer2[i].out_array, color=color[i], legend_label='LIF {}'.format(i+1))\n",
    "    p.line(x=time, y=snn.layer2[i].pot_plot, color=color[i], legend_label='LIF {}'.format(i+1), line_width=1.5)\n",
    "show(p)   "
   ]
  },
  {
   "cell_type": "code",
   "execution_count": null,
   "metadata": {},
   "outputs": [],
   "source": []
  },
  {
   "cell_type": "code",
   "execution_count": null,
   "metadata": {},
   "outputs": [],
   "source": []
  }
 ],
 "metadata": {
  "language_info": {
   "codemirror_mode": {
    "name": "ipython",
    "version": 3
   },
   "file_extension": ".py",
   "mimetype": "text/x-python",
   "name": "python",
   "nbconvert_exporter": "python",
   "pygments_lexer": "ipython3",
   "version": "3.7.7-final"
  },
  "orig_nbformat": 2,
  "kernelspec": {
   "name": "python37764bitpy37conda34757eb3777e4ef18aaea4b8199c344c",
   "display_name": "Python 3.7.7 64-bit ('py37': conda)"
  }
 },
 "nbformat": 4,
 "nbformat_minor": 2
}